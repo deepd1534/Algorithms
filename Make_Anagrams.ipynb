{
  "nbformat": 4,
  "nbformat_minor": 0,
  "metadata": {
    "colab": {
      "name": "Make Anagrams.ipynb",
      "provenance": [],
      "collapsed_sections": [],
      "include_colab_link": true
    },
    "kernelspec": {
      "name": "python3",
      "display_name": "Python 3"
    }
  },
  "cells": [
    {
      "cell_type": "markdown",
      "metadata": {
        "id": "view-in-github",
        "colab_type": "text"
      },
      "source": [
        "<a href=\"https://colab.research.google.com/github/deepd1534/Algorithms/blob/main/Make_Anagrams.ipynb\" target=\"_parent\"><img src=\"https://colab.research.google.com/assets/colab-badge.svg\" alt=\"Open In Colab\"/></a>"
      ]
    },
    {
      "cell_type": "markdown",
      "metadata": {
        "id": "XA-b8BLzYrbe"
      },
      "source": [
        "\n",
        "# Time : 1 hour\n",
        "\n",
        "# Problem Statement"
      ]
    },
    {
      "cell_type": "markdown",
      "metadata": {
        "id": "soIV-F7Wcbp3"
      },
      "source": [
        "### A student is taking a cryptography class and has found anagrams to be very useful. Two strings are anagrams of each other if the first string's letters can be rearranged to form the second string. In other words, both strings must contain the same exact letters in the same exact frequency. For example, bacdc and dcbac are anagrams, but bacdc and dcbad are not.\n",
        "\n",
        "### The student decides on an encryption scheme that involves two large strings. The encryption is dependent on the minimum number of character deletions required to make the two strings anagrams. You need to determine this number.\n",
        "\n",
        "### Given two strings, $a$ and $b$, that may or may not be of the same length, determine the minimum number of character deletions required to make $a$ and $b$ anagrams. Any characters can be deleted from either of the strings. The strings $a$ and $b$ consist of lowercase English alphabets."
      ]
    },
    {
      "cell_type": "markdown",
      "metadata": {
        "id": "TS0zgz0PcfYz"
      },
      "source": [
        "**Example**\n",
        "\n",
        "<code>a = 'cde'</code>\n",
        "\n",
        "<code>b = 'dcf' </code>"
      ]
    },
    {
      "cell_type": "markdown",
      "metadata": {
        "id": "kxZ3mdXsckZm"
      },
      "source": [
        "### Delete $e$ from $a$ and $f$ from $b$ so that the remaining strings are $cd$ and $dc$ which are anagrams. This takes 2 character deletions."
      ]
    },
    {
      "cell_type": "markdown",
      "metadata": {
        "id": "1QlkSP3KcozS"
      },
      "source": [
        "## **Function Description**\n",
        "\n",
        "### Create a <code>makeAnagram</code> function below.\n",
        "\n",
        "### **Inputs:**\n",
        "\n",
        "### string a: a string\n",
        "\n",
        "### string b: another string\n",
        "\n",
        "### **Output:**\n",
        "\n",
        "### int: the minimum total characters that must be deleted"
      ]
    },
    {
      "cell_type": "markdown",
      "metadata": {
        "id": "-woYEa44Z-Cf"
      },
      "source": [
        "# Solution"
      ]
    },
    {
      "cell_type": "code",
      "metadata": {
        "id": "sJ6O2MtIZ9dP"
      },
      "source": [
        "def makeAnagram(a, b):\n",
        "    # Two empty dictionaries to store frequencies\n",
        "    frequency_dict_a = {}\n",
        "    frequency_dict_b = {}\n",
        "\n",
        "    #sorting the two input strings into a list\n",
        "    a_sorted = sorted(a)\n",
        "    b_sorted = sorted(b)\n",
        "\n",
        "    #finding the frequency dictionary of both the strings\n",
        "    for letter_a in a_sorted:\n",
        "        if letter_a not in frequency_dict_a.keys():\n",
        "            count=1\n",
        "            frequency_dict_a[letter_a] = count\n",
        "        else:\n",
        "            count+=1\n",
        "            frequency_dict_a[letter_a] = count\n",
        "    print(frequency_dict_a)\n",
        "\n",
        "    for letter_b in b_sorted:\n",
        "        if letter_b not in frequency_dict_b.keys():\n",
        "            count=1\n",
        "            frequency_dict_b[letter_b] = count\n",
        "        else:\n",
        "            count+=1\n",
        "            frequency_dict_b[letter_b] = count\n",
        "    print(frequency_dict_b)\n",
        "\n",
        "    #Checking if both the words are anagrams\n",
        "    diff = 0\n",
        "    if frequency_dict_a == frequency_dict_b:\n",
        "        print(0)\n",
        "\n",
        "    # if they are not anagrams\n",
        "    else:\n",
        "        a_set = set(frequency_dict_a.keys())\n",
        "        b_set = set(frequency_dict_b.keys())\n",
        "        common_elements= a_set.intersection(b_set)\n",
        "        a_not_in_b_elements = a_set.difference(b_set)\n",
        "        b_not_in_a_elements = b_set.difference(a_set)\n",
        "        #checking the frequencies of common elements\n",
        "        for element in common_elements:\n",
        "            # if the frequency of common elements are same\n",
        "            if frequency_dict_a[element] == frequency_dict_b[element]:\n",
        "                diff += 0\n",
        "            #if the frequency of common elements are not same\n",
        "            else:\n",
        "                diff += abs(frequency_dict_a[element] - frequency_dict_b[element])\n",
        "        for element in a_not_in_b_elements:\n",
        "            diff += frequency_dict_a[element]\n",
        "        for element in b_not_in_a_elements:\n",
        "            diff += frequency_dict_b[element]\n",
        "    return diff\n"
      ],
      "execution_count": null,
      "outputs": []
    },
    {
      "cell_type": "code",
      "metadata": {
        "id": "COgSp7CXYczM",
        "outputId": "a0110d95-048c-4b3a-d74d-bf234e039054",
        "colab": {
          "base_uri": "https://localhost:8080/"
        }
      },
      "source": [
        "makeAnagram('acb','abc')"
      ],
      "execution_count": null,
      "outputs": [
        {
          "output_type": "stream",
          "name": "stdout",
          "text": [
            "{'a': 1, 'b': 1, 'c': 1}\n",
            "{'a': 1, 'b': 1, 'c': 1}\n",
            "0\n"
          ]
        },
        {
          "output_type": "execute_result",
          "data": {
            "text/plain": [
              "0"
            ]
          },
          "metadata": {},
          "execution_count": 2
        }
      ]
    }
  ]
}